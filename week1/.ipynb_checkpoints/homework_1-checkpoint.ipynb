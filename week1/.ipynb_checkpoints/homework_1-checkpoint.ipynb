{
 "cells": [
  {
   "cell_type": "markdown",
   "metadata": {},
   "source": [
    "# Homework Assignment #1\n",
    "\n",
    "### Due Date: Tuesday, November 26, by Midnight\n",
    "\n",
    "### Instructions\n",
    "For each question, show all your work and explain each step where possible. This assignment covers calculus, linear algebra, and probability theory. Some questions may require combining concepts from multiple sections, so ensure you review all material thoroughly. Good luck!\n",
    "\n",
    "**Note:** For all probability questions, use exact values when possible, and round your final answers to four decimal places if needed. For calculus and linear algebra questions, include clear explanations for each step of your work."
   ]
  },
  {
   "cell_type": "markdown",
   "metadata": {},
   "source": [
    "## Part I: Calculus (Derivatives and Integrals)"
   ]
  },
  {
   "cell_type": "markdown",
   "metadata": {},
   "source": [
    "### Question 1\n",
    "Let $ f(x) = x^3 - 6x^2 + 9x - 4 $. \n",
    "1. Find $ f'(x) $, the first derivative of $ f(x) $.\n",
    "2. Determine the critical points of $ f(x) $ by solving $ f'(x) = 0 $.\n",
    "3. Using the second derivative test, classify each critical point as a local maximum, minimum, or point of inflection."
   ]
  },
  {
   "cell_type": "markdown",
   "metadata": {},
   "source": [
    "### Answer:\n",
    "\n",
    "1. $f(x) = x^3 - 6x^2 + 9x - 4 \\\\f'(x) = \\frac{d}{dx}[f(x)] = 3*x^2 - 2 * 6 * x + 9 \\\\ f'(x) = 3x^2 - 12x + 9\\\\ $\n",
    "2. $f'(x) = 0 \\\\ 3x^2 - 12x + 9 = 0 \\\\ 3x^2 - 12x + 9 = 0/3 \\\\ x^2 - 4x +3 = 0 \\\\ x_{12} = \\frac{4 \\pm \\sqrt{4^2 - 4*1*3}}{2} = \\frac{4 \\pm \\sqrt{16 - 12}}{6} = \\frac{4 \\pm 2}{2}\\\\\n",
    "x_{1} = 3 \\\\ x_{2} = 1$\n",
    "\n",
    "3. In order to determine if the critical points are minima or maxima, we need to determine if the second derivative is positive or negative or zero. If it's positive, it's a minimum. If it's negative, it's a maximum. If it's zero, it's inclusive (could be inflection point).\n",
    "$\\\\f''(x) = \\frac{d}{dx}[f'(x)]\\\\f''(x) = 2*3x-12 = 6x-12\\\\ f''(1) = 6-12<0$ Therfore it's a local maximum point $ \\\\ f''(3) = 6*3 -12 >0$ Therfore it's a local minimum point \n"
   ]
  },
  {
   "cell_type": "markdown",
   "metadata": {},
   "source": [
    "### Question 2\n",
    "Evaluate the following indefinite integral:\n",
    "\n",
    "$$\n",
    "\\int \\frac{2x^3 - 5x + 3}{x^2} \\, dx\n",
    "$$"
   ]
  },
  {
   "cell_type": "markdown",
   "metadata": {},
   "source": [
    "### Answer:\n",
    "First I will use the linearity of the indefinte integral:\n",
    "$\\\\ 2\\int \\frac{x^3}{x^2}dx - 5\\int \\frac{x}{x^2}dx + 3\\int \\frac{1}{x^2}dx +C =2\\int  xdx - 5\\int x^{-1} dx + 3\\int x^{-2}dx + C\\\\ $\n",
    "Now by the general formula of indefinite integral:\n",
    "$\\int x^n dx = \\frac{x^{n+1}}{n+1} + C\\\\$\n",
    "and the special case where\n",
    "given  n = -1  then  $\\int x^{-1} dx = \\ln|x| + C \\newline $\n",
    "$ 2\\int  xdx - 5\\int x^{-1} dx + 3\\int x^{-2}dx + C = 2 * \\frac{x^2}{2} - 5 * \\ln|x| + 3 * \\frac{x^{-1}}{-1} + C \\newline \n",
    "x^2 - 5\\ln|x| - \\frac{3}{x} + C$"
   ]
  },
  {
   "cell_type": "markdown",
   "metadata": {},
   "source": [
    "### Question 3\n",
    "Compute the definite integral:\n",
    "\n",
    "$$\n",
    "\\int_0^3 (3x^2 - 4x + 2) \\, dx\n",
    "$$\n",
    "\n",
    "Then interpret the result as the area under the curve of $ f(x) = 3x^2 - 4x + 2 $ over the interval $ [0, 3] $."
   ]
  },
  {
   "cell_type": "markdown",
   "metadata": {},
   "source": [
    "### Answer\n",
    "First I will use the Linearity:\n",
    "$ \\int_{0}^{3} 3x^2dx - \\int_{0}^{3} 4xdx + 2\\int_{0}^{3} 2 dx = \\\\\n",
    " [x^3]_{0}^{3} -[2x^2]_{0}^{3} + [2x]_{0}^{3} = \\\\\n",
    " (27 - 0) - (18 -0) + (6 - 0) = 15$"
   ]
  },
  {
   "cell_type": "markdown",
   "metadata": {},
   "source": [
    "### Question 4\n",
    "Let $ g(x) = x e^x $.\n",
    "1. Find $ g'(x) $ using the product rule.\n",
    "2. Determine the integral $ \\int x e^x \\, dx $ by using integration by parts."
   ]
  },
  {
   "cell_type": "markdown",
   "metadata": {},
   "source": [
    "### Answer\n",
    "1. By the product rule: \n",
    "$ \\frac{d(fg)}{dx} = f'(x)g(x) + fg'(x) \\\\ $\n",
    "$ g'(x) = e^{x} \\frac{d(x)}{dx} + x \\frac{d(e^x)}{dx} \\\\ \n",
    "= e^{x} + x*e^{x} \\\\\n",
    "= e^{x}(1 + x) \\\\ $\n",
    "\n",
    "2. Integration by parts formula: \n",
    "$ \\int fdv = fv - \\int vdf \\\\ $\n",
    "In this case let $ v = e^x $ and $ f = x $\n",
    "$\\newline $ So $\\\\ \\int x e^x \\, dx = x e^x - \\int e^x dx = x e^x - e^x + C$ "
   ]
  },
  {
   "cell_type": "markdown",
   "metadata": {},
   "source": [
    "### Question 5\n",
    "Suppose $ h(x) = \\sin(x) e^{3x} $.\n",
    "1. Calculate $ h'(x) $.\n",
    "2. Compute $ \\int \\sin(x) e^{3x} \\, dx $ using integration by parts twice."
   ]
  },
  {
   "cell_type": "markdown",
   "metadata": {},
   "source": [
    "1. $ h'(x) = \\frac{d}{dx}[\\sin(x)e^{3x}]  =  e^{3x} * \\sin(x)'+ (e^3x)'* \\sin(x) \\\\ $ Therfore:\n",
    "$ h'(x) = e^{3x} * \\cos(x) + 3e^{3x} * \\sin(x) $\n",
    "$\\\\$\n",
    "2.Using the formula from previous question: $ \\int \\sin(x) e^{3x} \\, dx = \\frac{1}{3}\\sin(x)e^{3x} - \\int \\cos(x)\\cdot \\frac{1}{3}\\ e^{3x} \\, dx \\newline $\n",
    "Now let's do the integration by parts again:\n",
    "$ \\\\ \\sin(x)\\cdot\\frac{1}{3}e^{3x} - \\int \\cos(x)\\cdot\\frac{1}{3}e^{3x},dx = \\sin(x)\\cdot\\frac{1}{3}e^{3x} -[\n",
    "-\\cos(x)\\cdot\\frac{1}{9}e^{3x} + \\int \\sin(x)\\cdot\\frac{1}{9}e^{3x},dx] $\n",
    "$ \\newline $\n",
    "Therfore we can write it as such: $ \\\\ \\int \\sin(x) e^{3x} =  \\frac{1}{3}\\cdot\\sin(x)e^{3x}\n",
    "+\\frac{1}{9}\\cdot\\cos(x)e^{3x} - \\frac{1}{9}\\cdot\\int \\sin(x)e^{3x},dx \\newline$\n",
    "$ \\frac{10}{9} \\cdot \\int\\sin(x)e^{3x}\\cdot\\frac{9}{10} = \\frac{1}{3}\\cdot\\sin(x)e^{3x}\\cdot\\frac{9}{10}\n",
    "+\\frac{1}{9}\\cdot\\cos(x)e^{3x} \\cdot\\frac{9}{10}  \\newline$\n",
    "$ \\int\\sin(x)e^{3x} = e^{3x}\\cdot[\\frac{9}{30}\\cdot\\sin(x)+\\frac{9}{90}\\cdot\\cos(x)] + C$\n"
   ]
  },
  {
   "cell_type": "markdown",
   "metadata": {},
   "source": [
    "## Part II: Linear Algebra"
   ]
  },
  {
   "cell_type": "markdown",
   "metadata": {},
   "source": [
    "### Question 6\n",
    "Consider the following system of linear equations:\n",
    "$$\n",
    "2x + 3y - z = 4\n",
    "$$\n",
    "$$\n",
    "x - 2y + 4z = -3\n",
    "$$\n",
    "$$\n",
    "3x + y + 2z = 5\n",
    "$$\n",
    "1. Write the system in matrix form $ AX = B $.\n",
    "2. Find the determinant of $ A $.\n",
    "3. If the determinant is non-zero, use the inverse of $ A $ to solve for $ X $."
   ]
  },
  {
   "cell_type": "markdown",
   "metadata": {},
   "source": [
    "1. This 3 equation can be written as a matrix:\n",
    "$\\begin{pmatrix} 2&3&-1 \\newline\n",
    "1&-2&4 \\newline \n",
    "3&1&2\\end{pmatrix}\n",
    "\\begin{pmatrix} x \\newline y \\newline z \\end{pmatrix}\n",
    "= \\begin{pmatrix} 4 \\newline -3 \\newline 5 \\end{pmatrix}$\n",
    "$\\newline$\n",
    "2. The det of the matrix by the libnitz method for a 3x3 matrix is:\n",
    "given the matrix: A =  $ \\begin{pmatrix} a&b&c \\newline\n",
    "d&e&f \\newline \n",
    "g&h&i\\end{pmatrix} \\newline\n",
    "det(A) = aei + bfg + cdh - ceg - bdi - afh$\n",
    "\n",
    "Therfore, in our case: $det(A) = 2\\cdot-2\\cdot2 + 3\\cdot4\\cdot3 + (-1)\\cdot1\\cdot1 - (-1)\\cdot(-2)\\cdot(3) - 3\\cdot1\\cdot2 - 2\\cdot4\\cdot1 = -3 $\n",
    "\n",
    "3. The determinant is non zero, therefore the matrix is vertible\n",
    "$ A^{-1} (AX) = A^{-1}B \\newline$ \n",
    "s.t:$ A^{-1}A = I \\\\\n",
    "IX = A^{-1}B => X = A^{-1}B \\\\ $\n"
   ]
  },
  {
   "cell_type": "markdown",
   "metadata": {},
   "source": [
    "### Question 7\n",
    "Given the matrices:\n",
    "\n",
    "$$\n",
    "A = \\begin{pmatrix} 2 & -1 \\\\ 0 & 3 \\end{pmatrix} \\quad \\text{and} \\quad B = \\begin{pmatrix} 4 & 1 \\\\ -2 & 5 \\end{pmatrix}\n",
    "$$\n",
    "\n",
    "1. Compute $ A + B $ and $ A - B $.\n",
    "2. Find the product $ AB $ and $ BA $.\n",
    "3. Is $ AB = BA $? Justify your answer."
   ]
  },
  {
   "cell_type": "markdown",
   "metadata": {},
   "source": [
    "1. For two matrices in the same dimensions, the sum or minus of A and B is giben by:\n",
    "$ C_{ij} = A_{ij} \\pm B_{ij} \\\\ $\n",
    "Hence:\n",
    "$A + B = \\begin{pmatrix} 2+4 & -1+1 \\\\ 0-2 & 3+5 \\end{pmatrix}  = \\begin{pmatrix} 6 & 0 \\\\ -2 & 8 \\end{pmatrix} \\\\ A - B = \\begin{pmatrix} 2-4 & -1-1 \\\\ 0+2 & 3-5 \\end{pmatrix} = \\begin{pmatrix} -2 & -2 \\\\ 2 & -2 \\end{pmatrix} \\\\ $ \n",
    "2. The product of A and B is given by: suppose C = A X B. Then:\n",
    "$ C_{ij} = \\sum_{k=1}^n A_{ik} B_{kj} \\\\ $ ( where i is the row number of A, k is the column number of A and row number of B and j is the column number of B)\n",
    "$\\newline$\n",
    "$ A \\times B = \\begin{pmatrix} 8+2 & 2-5 \\\\ 0-6 & 15 \\end{pmatrix} = \\begin{pmatrix} 10 & -3 \\\\ -6 & 15 \\end{pmatrix} \\\\ $\n",
    "\n",
    "3. No!  matrix multiplication is not commutative."
   ]
  },
  {
   "cell_type": "markdown",
   "metadata": {},
   "source": [
    "### Question 8\n",
    "Let $ C $ be a $ 3 \\times 3 $ matrix:\n",
    "\n",
    "$$\n",
    "C = \\begin{pmatrix} 1 & 2 & 3 \\\\ 0 & -1 & 4 \\\\ 2 & 1 & 0 \\end{pmatrix}\n",
    "$$\n",
    "\n",
    "1. Find the transpose of $ C $, denoted $ C^T $.\n",
    "2. Calculate $ C + C^T $.\n",
    "3. Determine if $ C + C^T $ is symmetric."
   ]
  },
  {
   "cell_type": "markdown",
   "metadata": {},
   "source": [
    "1. The transpose of a matrix is obtained by swapping the rows and columns.\n",
    "therfore the transpose of a matrix C is\n",
    "$ C^T = \\begin{pmatrix} 1 & 0 & 2 \\\\ 2 & -1 & 1 \\\\ 3 & 4 &0 \\end{pmatrix} \\\\$\n",
    "2. $C+C^T = \\begin{pmatrix} 1+1 & 0+2 & 2+3 \\\\ 2+0 & -1+(-1) & 1+4 \\\\ 3+2 & 4+1 & 0+0 \\end{pmatrix}  = \\begin{pmatrix} 2 & 2 & 5 \\\\ 2 & -2 & 5 \\\\ 5 & 5 & 0 \\end{pmatrix}$  \n",
    "\n",
    "3. Yes! the transpose of a matrix is symmetric as can be determined by the fact that the transpose of this summation matrix is the same as the original matrix\n",
    "denote $A = C+C^t \\\\ $then $A_{12} = A_{21} \\\\ A_{13} = A_{31} \\\\ A_{23} = A_{32} \\\\ $\n"
   ]
  },
  {
   "cell_type": "markdown",
   "metadata": {},
   "source": [
    "### Question 9\n",
    "A matrix $ D $ is defined as:\n",
    "\n",
    "$$\n",
    "D = \\begin{pmatrix} a & 0 & 0 \\\\ 0 & b & 0 \\\\ 0 & 0 & c \\end{pmatrix}\n",
    "$$\n",
    "\n",
    "1. Describe the type of matrix $ D $ and explain its properties.\n",
    "2. If $ D $ is a diagonal matrix, find its determinant.\n",
    "3. Explain the significance of a diagonal matrix in terms of linear transformations."
   ]
  },
  {
   "cell_type": "markdown",
   "metadata": {},
   "source": [
    "1. This is a diagonal matrix that has non-zero elements only on the diagonal, this matrix type is useful in linear transformations\n",
    "2. The detirminant of a diagonal matrix is the product of its diagonal elements:\n",
    "$Det(D) = a\\cdot b\\cdot c $\n",
    "3. We can use the diagonal matrix to make transformations, for example if we want to rotate a vector by 90 degrees, we can use a diagonal matrix to rotate it by 90 degrees:\n",
    "\n",
    "$R = \\begin{bmatrix} 0 & -1 \\\\ 1 & 0 \\end{bmatrix}$"
   ]
  },
  {
   "cell_type": "markdown",
   "metadata": {},
   "source": [
    "### Question 10\n",
    "Let $ E $ be a $ 2 \\times 2 $ matrix defined as:\n",
    "\n",
    "$$\n",
    "E = \\begin{pmatrix} 3 & 4 \\\\ 2 & 1 \\end{pmatrix}\n",
    "$$\n",
    "\n",
    "1. Find the eigenvalues of $ E $.\n",
    "2. For each eigenvalue, find the corresponding eigenvector.\n",
    "3. Explain how the eigenvalues and eigenvectors can be used to understand transformations represented by $ E $."
   ]
  },
  {
   "cell_type": "markdown",
   "metadata": {},
   "source": [
    "## Eigenvalues:\n",
    "1. Let's find the eigenvalues, It's been a while since I did it!\n",
    "Consider E a transformation matrix, then if vectors from that matrix stay on the same span following the transformation, then those are the eigen vectors. suppose a non-zero vector x (2)\n",
    "$\\\\ Ax = \\lambda x \\\\ (A-\\lambda I)x = 0$ This supposed to give us the eigenvalue, because the multiplied vector is 0.\n",
    "$\\\\ det(\\begin{pmatrix} 3-\\lambda & 4 \\\\ 2 & 1-\\lambda \\end{pmatrix}) = 0 \\\\\n",
    "(3-\\lambda)(1-\\lambda) - (4)(2) = 0 \\\\\n",
    "3(1-\\lambda) - \\lambda(1-\\lambda) - 8 = 0 \\\\\n",
    "3 - 3\\lambda - \\lambda + \\lambda^2 - 8 = 0 \\\\\n",
    "\\lambda^2 - 4\\lambda - 5 = 0\n",
    "\\lambda_{1,2} = \\frac{4\\pm\\sqrt{16+20}}{2} = \\frac{4\\pm6}{2} => \\lambda_1  = 5, \\lambda_2 = -1 $\n",
    "$\\\\$\n",
    "2. let's find the corresponding eigenvectors:\n",
    " $ \\lambda = 5 \\newline \\begin{pmatrix} 3-5 & 4 \\\\ 2 & 1-5 \\end{pmatrix} \\begin{pmatrix} x_1 \\\\ x_2 \\end{pmatrix} = \\begin{pmatrix} -2 & 4 \\\\ 2 & -4 \\end{pmatrix} \\begin{pmatrix} x_1 \\\\ x_2 \\end{pmatrix}=0 \\newline\n",
    "-2x_1 + 4x_2 = 0 \\newline\n",
    "2x_1 - 4x_2 = 0 (let x_1 = 1)$ then $ \\\\ x_2 = \\frac{1}{2} \\newline\n",
    "\\vec{v_1} = \\begin{pmatrix} 2 \\\\ 1 \\end{pmatrix}\\newline\n",
    "\\lambda = -1 \\newline \\begin{pmatrix} 4 & 4 \\\\ 2 & 2 \\end{pmatrix} \\begin{pmatrix} x_1 \\\\ x_2 \\end{pmatrix} = 0 $\n",
    "It's can easily be seen that the second eigen vector is $ \\vec{v_2} = \\begin{pmatrix} -1 \\\\ 1 \\end{pmatrix} \\newline$\n",
    "3. Eigen values and eigen vectors help us understand matrix transformations in several ways: they form a kind of basis for the transformations, and how much the transformation changes in the direction of the eigene vectors.  \n"
   ]
  },
  {
   "cell_type": "markdown",
   "metadata": {},
   "source": [
    "## Part III: Probability Theory"
   ]
  },
  {
   "cell_type": "markdown",
   "metadata": {},
   "source": [
    "### Question 11\n",
    "In a population, 30% of individuals have a specific genetic marker. A test for this marker has a 95% accuracy rate for individuals with the marker and an 80% accuracy rate for those without the marker.\n",
    "1. Define the events and write out the given probabilities.\n",
    "2. Using Bayes' theorem, calculate the probability that an individual actually has the marker given a positive test result."
   ]
  },
  {
   "cell_type": "markdown",
   "metadata": {},
   "source": [
    "Let's define G=has marker\n",
    "P = positive test result$\\\\{S} = \\{G,N\\}\\\\\n",
    "P(G) = 0.3\\\\\n",
    "P(-G) = 0.7\\\\\n",
    "P(P|G) =0.95 \\\\\n",
    "P(P|-G) = 0.2$\n",
    "We want to find what are the probabilities of having a positive test result given that you have the marker so:\n",
    "$ P(G|P) = \\frac{P(G)P(P|G)}{P(P|G)P(G)+P(P|-G)P(-G)} = \\frac{0.3*0.95}{0.95*0.3+0.2*0.7} = 0.6 $"
   ]
  },
  {
   "cell_type": "markdown",
   "metadata": {},
   "source": [
    "### Question 12\n",
    "A die is rolled 12 times. Let $ X $ be the random variable representing the number of times a \"5\" appears.\n",
    "1. What type of probability distribution does $ X $ follow?\n",
    "2. Calculate the probability that \"5\" appears exactly 4 times.\n",
    "3. Determine the expected number of times \"5\" will appear in 12 rolls."
   ]
  },
  {
   "cell_type": "markdown",
   "metadata": {},
   "source": [
    "1. Follows A Binomial distribution.\n",
    "2. $P(X=4) = \\frac{12!}{4!(12-4)!}0.167^4(0.833)^{8} = 0.089 $\n",
    "3. The expected number of time 5 will appear in 12 rolls is 2 because, all the 6 numbers in the dice have equal probability of appearing."
   ]
  },
  {
   "cell_type": "markdown",
   "metadata": {},
   "source": [
    "### Question 13\n",
    "A bookstore averages 3 customer visits per hour. Assume the number of customer visits per hour follows a Poisson distribution.\n",
    "1. Calculate the probability that exactly 5 customers visit in a given hour.\n",
    "2. Find the probability that at least 1 customer visits in a given hour."
   ]
  },
  {
   "cell_type": "markdown",
   "metadata": {},
   "source": [
    "1. The poission distribution allows us to calculate the probability of observing a given number of successes with a given number of successes rate.\n",
    "$ P(X=k) = \\frac{\\lambda^k e^{-\\lambda}}{k!} $ st: $\\lambda$: Average number of event occurrences per unit time.\n",
    "                                                  k: Number of event occurrences (successes).\n",
    "Hence:\n",
    "$\\newline \\\\  P(X=5) = \\frac{3^5 e^{-3}}{5!} = \\frac{243\\cdot (0.05)}{5\\cdot4\\cdot3\\cdot2\\cdot1}\\approx 0.100\\ $\n",
    "So, the probability that exactly 5 customers will visit in a given hour is approximately 10\\%.\n",
    "\n",
    "2.In order to find the probabillity of at least 1 customer visiting in a given hour, we can look for the complementary probability:  $\\\\ P(X\\geq1) = 1 - P(X=0) \\\\\n",
    "P(X\\geq1) = 1 - \\frac{3^0 e^{-3}}{0!} \\space\\space\\textbf{ s.t: (0! = 1)}$  \n",
    "$\\\\ P(X\\geq1) = 1 - \\frac{e^{-3}}{1} = e^{-3} \\approx 1- 0.049 \\approx 0.951$"
   ]
  },
  {
   "cell_type": "markdown",
   "metadata": {},
   "source": [
    "### Question 14\n",
    "Assume a continuous random variable $ Y $ follows a normal distribution with mean $ \\mu = 50 $ and standard deviation $ \\sigma = 5 $.\n",
    "1. Calculate the probability that $ Y $ takes a value between 45 and 55.\n",
    "2. Find the value $ y $ such that $ P(Y \\leq y) = 0.85 $."
   ]
  },
  {
   "cell_type": "markdown",
   "metadata": {},
   "source": [
    "Let's do a quick reminder for the bell curve that is given in a random normal distribution."
   ]
  },
  {
   "cell_type": "code",
   "execution_count": 10,
   "metadata": {},
   "outputs": [
    {
     "data": {
      "image/png": "[encoded data removed]",
      "text/plain": [
       "<Figure size 640x480 with 1 Axes>"
      ]
     },
     "metadata": {},
     "output_type": "display_data"
    }
   ],
   "source": [
    "import matplotlib.pyplot as plt\n",
    "import matplotlib.image as mpimg\n",
    "\n",
    "img = mpimg.imread('normal_distribution_500x263.jpg')\n",
    "plt.imshow(img)\n",
    "plt.axis('off')  # This hides the axis values\n",
    "plt.show()"
   ]
  },
  {
   "cell_type": "markdown",
   "metadata": {},
   "source": [
    "1. From this image it can easily seen that the the probability of $45<Y<55$ is 68.2%\n",
    "2. It take more steps to find this value the easiest way is to standrize the distribution such that the mean is 0 and standard deviation is 1.\n",
    "Then we can use z score to find the value. The standard normal distribution can be presented as \n",
    "$\\\\ Z = \\frac{y - \\mu}{\\sigma}$\n",
    "From the table of Z scores, the Z score is $Z\\approx 1.04 \\\\ \n",
    "1.04 = \\frac{y - 50}{5} = 5.2 = y-50 => y=55.2  \\\\ \\text{the y that give}\\space P(Y\\leq y) = 0.85 => y=55.2$"
   ]
  },
  {
   "cell_type": "markdown",
   "metadata": {},
   "source": [
    "### Question 15\n",
    "A company's product quality control process involves two independent tests. Each test has a 98% probability of detecting a defect if it is present.\n",
    "1. What is the probability that both tests detect a defect when it is present?\n",
    "2. What is the probability that at least one test detects a defect when it is present?\n",
    "3. If the company requires both tests to detect a defect before rejecting a product, calculate the probability that a defective product will be rejected."
   ]
  },
  {
   "cell_type": "markdown",
   "metadata": {},
   "source": [
    "1. Each test detect a defect in the probabillity of 98% so \n",
    "$ P(T1) = 0.98 \\space\\text{and}\\space P(T2) = 0.98 \\newline$ \n",
    "Let's call the defect D and -D will be the non-defect.\n",
    "so the probabillity that both detect a defect when it's present is given by $\\\\\n",
    "P(T1|D) \\cdot P(T2|D) = 0.98 \\cdot 0.98 \\approx 0.96 $\n",
    "\n",
    "2.The probabillity that at least one of them detect a defect when it's present is given by the complimant of the probabillity that none detect a defect when it's present $ \\\\\n",
    " 1-P(T1|-D) \\cdot P(T2|-D) = 1-0.98 \\cdot 0.98 \\approx 0.04$\n",
    " \n",
    " 3. The probabillity that a defective product will get rejected is equal to the probabillity that each test detect a defect when it's presentand it's equal to $ 0.96 $"
   ]
  }
 ],
 "metadata": {
  "kernelspec": {
   "display_name": "Python 3 (ipykernel)",
   "language": "python",
   "name": "python3"
  },
  "language_info": {
   "codemirror_mode": {
    "name": "ipython",
    "version": 3
   },
   "file_extension": ".py",
   "mimetype": "text/x-python",
   "name": "python",
   "nbconvert_exporter": "python",
   "pygments_lexer": "ipython3",
   "version": "3.11.10"
  }
 },
 "nbformat": 4,
 "nbformat_minor": 2
}
